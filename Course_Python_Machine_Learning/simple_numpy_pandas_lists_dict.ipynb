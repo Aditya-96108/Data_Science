{
 "cells": [
  {
   "cell_type": "code",
   "execution_count": 14,
   "id": "437b26dc",
   "metadata": {},
   "outputs": [
    {
     "name": "stdout",
     "output_type": "stream",
     "text": [
      "Requirement already satisfied: numpy in c:\\users\\91749\\desktop\\data_science_repository\\course_python_machine_learning\\venv\\lib\\site-packages (2.2.5)\n"
     ]
    },
    {
     "name": "stderr",
     "output_type": "stream",
     "text": [
      "\n",
      "[notice] A new release of pip is available: 23.2.1 -> 25.0.1\n",
      "[notice] To update, run: python.exe -m pip install --upgrade pip\n"
     ]
    },
    {
     "name": "stdout",
     "output_type": "stream",
     "text": [
      "Requirement already satisfied: pandas in c:\\users\\91749\\desktop\\data_science_repository\\course_python_machine_learning\\venv\\lib\\site-packages (2.2.3)\n",
      "Requirement already satisfied: numpy>=1.23.2 in c:\\users\\91749\\desktop\\data_science_repository\\course_python_machine_learning\\venv\\lib\\site-packages (from pandas) (2.2.5)\n",
      "Requirement already satisfied: python-dateutil>=2.8.2 in c:\\users\\91749\\desktop\\data_science_repository\\course_python_machine_learning\\venv\\lib\\site-packages (from pandas) (2.9.0.post0)\n",
      "Requirement already satisfied: pytz>=2020.1 in c:\\users\\91749\\desktop\\data_science_repository\\course_python_machine_learning\\venv\\lib\\site-packages (from pandas) (2025.2)\n",
      "Requirement already satisfied: tzdata>=2022.7 in c:\\users\\91749\\desktop\\data_science_repository\\course_python_machine_learning\\venv\\lib\\site-packages (from pandas) (2025.2)\n",
      "Requirement already satisfied: six>=1.5 in c:\\users\\91749\\desktop\\data_science_repository\\course_python_machine_learning\\venv\\lib\\site-packages (from python-dateutil>=2.8.2->pandas) (1.17.0)\n"
     ]
    },
    {
     "name": "stderr",
     "output_type": "stream",
     "text": [
      "\n",
      "[notice] A new release of pip is available: 23.2.1 -> 25.0.1\n",
      "[notice] To update, run: python.exe -m pip install --upgrade pip\n"
     ]
    }
   ],
   "source": [
    "!pip install numpy\n",
    "!pip install pandas"
   ]
  },
  {
   "cell_type": "code",
   "execution_count": 15,
   "id": "e60e00ef",
   "metadata": {},
   "outputs": [],
   "source": [
    "import numpy as np\n",
    "import pandas as pd"
   ]
  },
  {
   "cell_type": "code",
   "execution_count": 16,
   "id": "35d7c7c3",
   "metadata": {},
   "outputs": [],
   "source": [
    "students = [\n",
    "    {\"name\": \"Manuj\", \"math\": 85, \"science\": 90},\n",
    "    {\"name\": \"pranav\", \"math\": 75, \"science\": 80},\n",
    "    {\"name\": \"Aditya\", \"math\": 95, \"science\": 85}\n",
    "]"
   ]
  },
  {
   "cell_type": "code",
   "execution_count": 17,
   "id": "8225a788",
   "metadata": {},
   "outputs": [],
   "source": [
    "def calculate_average(scores):\n",
    "    return np.mean(scores)\n"
   ]
  },
  {
   "cell_type": "code",
   "execution_count": 18,
   "id": "7476cf21",
   "metadata": {},
   "outputs": [],
   "source": [
    "class StudentData:\n",
    "    def __init__(self, student_list):\n",
    "        self.df = pd.DataFrame(student_list)\n",
    "\n",
    "    def add_total_and_average(self):\n",
    "        self.df['total'] = self.df[['math', 'science']].sum(axis=1)\n",
    "        self.df['average'] = self.df[['math', 'science']].mean(axis=1)\n",
    "\n",
    "    def show(self):\n",
    "        print(\"Student Data:\\n\")\n",
    "        print(self.df)\n"
   ]
  },
  {
   "cell_type": "code",
   "execution_count": 19,
   "id": "45a62934",
   "metadata": {},
   "outputs": [
    {
     "name": "stdout",
     "output_type": "stream",
     "text": [
      "Working with Lists and Dictionaries:\n",
      "\n",
      "Manuj - Math: 85, Science: 90\n",
      "pranav - Math: 75, Science: 80\n",
      "Aditya - Math: 95, Science: 85\n"
     ]
    }
   ],
   "source": [
    "print(\"Working with Lists and Dictionaries:\\n\")\n",
    "for student in students:\n",
    "    print(f\"{student['name']} - Math: {student['math']}, Science: {student['science']}\")\n"
   ]
  },
  {
   "cell_type": "code",
   "execution_count": 20,
   "id": "a0606d53",
   "metadata": {},
   "outputs": [
    {
     "name": "stdout",
     "output_type": "stream",
     "text": [
      "Student Data:\n",
      "\n",
      "     name  math  science  total  average\n",
      "0   Manuj    85       90    175     87.5\n",
      "1  pranav    75       80    155     77.5\n",
      "2  Aditya    95       85    180     90.0\n"
     ]
    }
   ],
   "source": [
    "data = StudentData(students)\n",
    "data.add_total_and_average()\n",
    "data.show()"
   ]
  },
  {
   "cell_type": "code",
   "execution_count": 21,
   "id": "57aed03d",
   "metadata": {},
   "outputs": [
    {
     "name": "stdout",
     "output_type": "stream",
     "text": [
      "\n",
      "Average Math Score (Using NumPy): 85.0\n"
     ]
    }
   ],
   "source": [
    "\n",
    "math_scores = [student['math'] for student in students]\n",
    "print(\"\\nAverage Math Score (Using NumPy):\", calculate_average(math_scores))\n"
   ]
  },
  {
   "cell_type": "code",
   "execution_count": 22,
   "id": "40afa922",
   "metadata": {},
   "outputs": [
    {
     "name": "stdout",
     "output_type": "stream",
     "text": [
      "Array: [1 2 3 4 5]\n",
      "Mean: 3.0\n"
     ]
    }
   ],
   "source": [
    "arr = np.array([1, 2, 3, 4, 5])\n",
    "print(\"Array:\", arr)\n",
    "print(\"Mean:\", np.mean(arr))"
   ]
  },
  {
   "cell_type": "code",
   "execution_count": 24,
   "id": "fe281e88",
   "metadata": {},
   "outputs": [
    {
     "name": "stdout",
     "output_type": "stream",
     "text": [
      "     name  score\n",
      "0     adi     90\n",
      "1  aditya     80\n"
     ]
    }
   ],
   "source": [
    "data = [\n",
    "    {\"name\": \"adi\", \"score\": 90},\n",
    "    {\"name\": \"aditya\", \"score\": 80}\n",
    "]\n",
    "df = pd.DataFrame(data)\n",
    "print(df)"
   ]
  },
  {
   "cell_type": "code",
   "execution_count": 25,
   "id": "9a92abe5",
   "metadata": {},
   "outputs": [
    {
     "name": "stdout",
     "output_type": "stream",
     "text": [
      "     name  score status\n",
      "0     adi     90   Pass\n",
      "1  aditya     80   Fail\n"
     ]
    }
   ],
   "source": [
    "df['status'] = ['Pass' if score >= 85 else 'Fail' for score in df['score']]\n",
    "print(df)"
   ]
  },
  {
   "cell_type": "code",
   "execution_count": 26,
   "id": "08d4afaa",
   "metadata": {},
   "outputs": [
    {
     "name": "stdout",
     "output_type": "stream",
     "text": [
      "Number: 10\n",
      "Number: 20\n",
      "Number: 30\n",
      "Number: 40\n",
      "Number: 50\n"
     ]
    }
   ],
   "source": [
    "numbers = [10, 20, 30, 40, 50]\n",
    "for number in numbers:\n",
    "    print(f\"Number: {number}\")"
   ]
  },
  {
   "cell_type": "code",
   "execution_count": null,
   "id": "dbbc3833",
   "metadata": {},
   "outputs": [],
   "source": []
  }
 ],
 "metadata": {
  "kernelspec": {
   "display_name": "venv",
   "language": "python",
   "name": "python3"
  },
  "language_info": {
   "codemirror_mode": {
    "name": "ipython",
    "version": 3
   },
   "file_extension": ".py",
   "mimetype": "text/x-python",
   "name": "python",
   "nbconvert_exporter": "python",
   "pygments_lexer": "ipython3",
   "version": "3.11.5"
  }
 },
 "nbformat": 4,
 "nbformat_minor": 5
}
