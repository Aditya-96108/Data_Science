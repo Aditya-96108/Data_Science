{
 "cells": [
  {
   "cell_type": "code",
   "execution_count": 2,
   "id": "34db5b76",
   "metadata": {},
   "outputs": [],
   "source": [
    "import pandas as pd"
   ]
  },
  {
   "cell_type": "code",
   "execution_count": 4,
   "id": "f58b0170",
   "metadata": {},
   "outputs": [],
   "source": [
    "data_frame = pd.read_csv(\"C:/Users/91749/Downloads/potus_visitors_2015.csv\")"
   ]
  },
  {
   "cell_type": "code",
   "execution_count": 6,
   "id": "271609d3",
   "metadata": {},
   "outputs": [
    {
     "data": {
      "text/html": [
       "<div>\n",
       "<style scoped>\n",
       "    .dataframe tbody tr th:only-of-type {\n",
       "        vertical-align: middle;\n",
       "    }\n",
       "\n",
       "    .dataframe tbody tr th {\n",
       "        vertical-align: top;\n",
       "    }\n",
       "\n",
       "    .dataframe thead th {\n",
       "        text-align: right;\n",
       "    }\n",
       "</style>\n",
       "<table border=\"1\" class=\"dataframe\">\n",
       "  <thead>\n",
       "    <tr style=\"text-align: right;\">\n",
       "      <th></th>\n",
       "      <th>name</th>\n",
       "      <th>appt_made_date</th>\n",
       "      <th>appt_start_date</th>\n",
       "      <th>appt_end_date</th>\n",
       "      <th>visitee_namelast</th>\n",
       "      <th>visitee_namefirst</th>\n",
       "      <th>meeting_room</th>\n",
       "      <th>description</th>\n",
       "    </tr>\n",
       "  </thead>\n",
       "  <tbody>\n",
       "    <tr>\n",
       "      <th>0</th>\n",
       "      <td>Joshua T. Blanton</td>\n",
       "      <td>2014-12-18T00:00:00</td>\n",
       "      <td>1/6/15 9:30</td>\n",
       "      <td>1/6/15 23:59</td>\n",
       "      <td>NaN</td>\n",
       "      <td>potus</td>\n",
       "      <td>west wing</td>\n",
       "      <td>JointService Military Honor Guard</td>\n",
       "    </tr>\n",
       "    <tr>\n",
       "      <th>1</th>\n",
       "      <td>Jack T. Gutting</td>\n",
       "      <td>2014-12-18T00:00:00</td>\n",
       "      <td>1/6/15 9:30</td>\n",
       "      <td>1/6/15 23:59</td>\n",
       "      <td>NaN</td>\n",
       "      <td>potus</td>\n",
       "      <td>west wing</td>\n",
       "      <td>JointService Military Honor Guard</td>\n",
       "    </tr>\n",
       "    <tr>\n",
       "      <th>2</th>\n",
       "      <td>Bradley T. Guiles</td>\n",
       "      <td>2014-12-18T00:00:00</td>\n",
       "      <td>1/6/15 9:30</td>\n",
       "      <td>1/6/15 23:59</td>\n",
       "      <td>NaN</td>\n",
       "      <td>potus</td>\n",
       "      <td>west wing</td>\n",
       "      <td>JointService Military Honor Guard</td>\n",
       "    </tr>\n",
       "    <tr>\n",
       "      <th>3</th>\n",
       "      <td>Loryn F. Grieb</td>\n",
       "      <td>2014-12-18T00:00:00</td>\n",
       "      <td>1/6/15 9:30</td>\n",
       "      <td>1/6/15 23:59</td>\n",
       "      <td>NaN</td>\n",
       "      <td>potus</td>\n",
       "      <td>west wing</td>\n",
       "      <td>JointService Military Honor Guard</td>\n",
       "    </tr>\n",
       "    <tr>\n",
       "      <th>4</th>\n",
       "      <td>Travis D. Gordon</td>\n",
       "      <td>2014-12-18T00:00:00</td>\n",
       "      <td>1/6/15 9:30</td>\n",
       "      <td>1/6/15 23:59</td>\n",
       "      <td>NaN</td>\n",
       "      <td>potus</td>\n",
       "      <td>west wing</td>\n",
       "      <td>JointService Military Honor Guard</td>\n",
       "    </tr>\n",
       "  </tbody>\n",
       "</table>\n",
       "</div>"
      ],
      "text/plain": [
       "                name       appt_made_date appt_start_date appt_end_date  \\\n",
       "0  Joshua T. Blanton  2014-12-18T00:00:00     1/6/15 9:30  1/6/15 23:59   \n",
       "1    Jack T. Gutting  2014-12-18T00:00:00     1/6/15 9:30  1/6/15 23:59   \n",
       "2  Bradley T. Guiles  2014-12-18T00:00:00     1/6/15 9:30  1/6/15 23:59   \n",
       "3     Loryn F. Grieb  2014-12-18T00:00:00     1/6/15 9:30  1/6/15 23:59   \n",
       "4   Travis D. Gordon  2014-12-18T00:00:00     1/6/15 9:30  1/6/15 23:59   \n",
       "\n",
       "  visitee_namelast visitee_namefirst meeting_room  \\\n",
       "0              NaN             potus    west wing   \n",
       "1              NaN             potus    west wing   \n",
       "2              NaN             potus    west wing   \n",
       "3              NaN             potus    west wing   \n",
       "4              NaN             potus    west wing   \n",
       "\n",
       "                         description  \n",
       "0  JointService Military Honor Guard  \n",
       "1  JointService Military Honor Guard  \n",
       "2  JointService Military Honor Guard  \n",
       "3  JointService Military Honor Guard  \n",
       "4  JointService Military Honor Guard  "
      ]
     },
     "execution_count": 6,
     "metadata": {},
     "output_type": "execute_result"
    }
   ],
   "source": [
    "data_frame.head(5)"
   ]
  },
  {
   "cell_type": "code",
   "execution_count": 11,
   "id": "fcab3aee",
   "metadata": {},
   "outputs": [
    {
     "data": {
      "text/plain": [
       "name                 47954\n",
       "appt_made_date       47954\n",
       "appt_start_date      47954\n",
       "appt_end_date        47954\n",
       "visitee_namelast      6069\n",
       "visitee_namefirst    47953\n",
       "meeting_room         47954\n",
       "description           8053\n",
       "dtype: int64"
      ]
     },
     "execution_count": 11,
     "metadata": {},
     "output_type": "execute_result"
    }
   ],
   "source": [
    "data_frame.count()"
   ]
  },
  {
   "cell_type": "code",
   "execution_count": 13,
   "id": "78921ffc",
   "metadata": {},
   "outputs": [
    {
     "name": "stdout",
     "output_type": "stream",
     "text": [
      "<class 'pandas.core.frame.DataFrame'>\n",
      "RangeIndex: 47954 entries, 0 to 47953\n",
      "Data columns (total 8 columns):\n",
      " #   Column             Non-Null Count  Dtype \n",
      "---  ------             --------------  ----- \n",
      " 0   name               47954 non-null  object\n",
      " 1   appt_made_date     47954 non-null  object\n",
      " 2   appt_start_date    47954 non-null  object\n",
      " 3   appt_end_date      47954 non-null  object\n",
      " 4   visitee_namelast   6069 non-null   object\n",
      " 5   visitee_namefirst  47953 non-null  object\n",
      " 6   meeting_room       47954 non-null  object\n",
      " 7   description        8053 non-null   object\n",
      "dtypes: object(8)\n",
      "memory usage: 2.9+ MB\n"
     ]
    }
   ],
   "source": [
    "data_frame.info()"
   ]
  },
  {
   "cell_type": "code",
   "execution_count": 15,
   "id": "650bdda4",
   "metadata": {},
   "outputs": [
    {
     "data": {
      "text/html": [
       "<div>\n",
       "<style scoped>\n",
       "    .dataframe tbody tr th:only-of-type {\n",
       "        vertical-align: middle;\n",
       "    }\n",
       "\n",
       "    .dataframe tbody tr th {\n",
       "        vertical-align: top;\n",
       "    }\n",
       "\n",
       "    .dataframe thead th {\n",
       "        text-align: right;\n",
       "    }\n",
       "</style>\n",
       "<table border=\"1\" class=\"dataframe\">\n",
       "  <thead>\n",
       "    <tr style=\"text-align: right;\">\n",
       "      <th></th>\n",
       "      <th>name</th>\n",
       "      <th>appt_made_date</th>\n",
       "      <th>appt_start_date</th>\n",
       "      <th>appt_end_date</th>\n",
       "      <th>visitee_namelast</th>\n",
       "      <th>visitee_namefirst</th>\n",
       "      <th>meeting_room</th>\n",
       "      <th>description</th>\n",
       "    </tr>\n",
       "  </thead>\n",
       "  <tbody>\n",
       "    <tr>\n",
       "      <th>count</th>\n",
       "      <td>47954</td>\n",
       "      <td>47954</td>\n",
       "      <td>47954</td>\n",
       "      <td>47954</td>\n",
       "      <td>6069</td>\n",
       "      <td>47953</td>\n",
       "      <td>47954</td>\n",
       "      <td>8053</td>\n",
       "    </tr>\n",
       "    <tr>\n",
       "      <th>unique</th>\n",
       "      <td>37924</td>\n",
       "      <td>353</td>\n",
       "      <td>1174</td>\n",
       "      <td>193</td>\n",
       "      <td>112</td>\n",
       "      <td>102</td>\n",
       "      <td>148</td>\n",
       "      <td>169</td>\n",
       "    </tr>\n",
       "    <tr>\n",
       "      <th>top</th>\n",
       "      <td>Alan C. Prather</td>\n",
       "      <td>2015-12-14T00:00:00</td>\n",
       "      <td>6/15/15 15:15</td>\n",
       "      <td>6/15/15 23:59</td>\n",
       "      <td>Velz</td>\n",
       "      <td>POTUS</td>\n",
       "      <td>State Floo</td>\n",
       "      <td>military honor guard</td>\n",
       "    </tr>\n",
       "    <tr>\n",
       "      <th>freq</th>\n",
       "      <td>32</td>\n",
       "      <td>1812</td>\n",
       "      <td>3064</td>\n",
       "      <td>3246</td>\n",
       "      <td>1453</td>\n",
       "      <td>27871</td>\n",
       "      <td>22670</td>\n",
       "      <td>1030</td>\n",
       "    </tr>\n",
       "  </tbody>\n",
       "</table>\n",
       "</div>"
      ],
      "text/plain": [
       "                   name       appt_made_date appt_start_date  appt_end_date  \\\n",
       "count             47954                47954           47954          47954   \n",
       "unique            37924                  353            1174            193   \n",
       "top     Alan C. Prather  2015-12-14T00:00:00   6/15/15 15:15  6/15/15 23:59   \n",
       "freq                 32                 1812            3064           3246   \n",
       "\n",
       "       visitee_namelast visitee_namefirst meeting_room           description  \n",
       "count              6069             47953        47954                  8053  \n",
       "unique              112               102          148                   169  \n",
       "top                Velz             POTUS   State Floo  military honor guard  \n",
       "freq               1453             27871        22670                  1030  "
      ]
     },
     "execution_count": 15,
     "metadata": {},
     "output_type": "execute_result"
    }
   ],
   "source": [
    "data_frame.describe()"
   ]
  },
  {
   "cell_type": "code",
   "execution_count": 22,
   "id": "7708e600",
   "metadata": {},
   "outputs": [
    {
     "data": {
      "text/plain": [
       "visitee_namefirst\n",
       "POTUS              58.121494\n",
       "POTUS/FLOTUS       26.457156\n",
       "potus               5.847392\n",
       "POTUS/Peter         3.030050\n",
       "President           0.890455\n",
       "                     ...    \n",
       "POTUS/Elizabeth     0.002085\n",
       "POTUS/Gregg         0.002085\n",
       "Evan                0.002085\n",
       "POTUS/Dominique     0.002085\n",
       "Brian               0.002085\n",
       "Name: proportion, Length: 102, dtype: float64"
      ]
     },
     "execution_count": 22,
     "metadata": {},
     "output_type": "execute_result"
    }
   ],
   "source": [
    "data_frame[\"visitee_namefirst\"].value_counts(normalize=True) * 100"
   ]
  },
  {
   "cell_type": "code",
   "execution_count": 37,
   "id": "b4eef777",
   "metadata": {},
   "outputs": [
    {
     "data": {
      "text/plain": [
       "0   2015-01-06 09:30:00\n",
       "1   2015-01-06 09:30:00\n",
       "2   2015-01-06 09:30:00\n",
       "3   2015-01-06 09:30:00\n",
       "4   2015-01-06 09:30:00\n",
       "Name: appt_start_date, dtype: datetime64[ns]"
      ]
     },
     "execution_count": 37,
     "metadata": {},
     "output_type": "execute_result"
    }
   ],
   "source": [
    "pd.to_datetime(data_frame[\"appt_start_date\"], format=\"%m/%d/%y %H:%M\").head(5)"
   ]
  },
  {
   "cell_type": "code",
   "execution_count": 39,
   "id": "2f01e48d",
   "metadata": {},
   "outputs": [
    {
     "data": {
      "text/plain": [
       "0    09:30:00\n",
       "1    09:30:00\n",
       "2    09:30:00\n",
       "3    09:30:00\n",
       "4    09:30:00\n",
       "Name: appt_start_date, dtype: object"
      ]
     },
     "execution_count": 39,
     "metadata": {},
     "output_type": "execute_result"
    }
   ],
   "source": [
    "pd.to_datetime(data_frame[\"appt_start_date\"], format=\"%m/%d/%y %H:%M\").dt.time.head(5)"
   ]
  },
  {
   "cell_type": "code",
   "execution_count": 56,
   "id": "70c2be93",
   "metadata": {},
   "outputs": [
    {
     "data": {
      "text/html": [
       "<div>\n",
       "<style scoped>\n",
       "    .dataframe tbody tr th:only-of-type {\n",
       "        vertical-align: middle;\n",
       "    }\n",
       "\n",
       "    .dataframe tbody tr th {\n",
       "        vertical-align: top;\n",
       "    }\n",
       "\n",
       "    .dataframe thead th {\n",
       "        text-align: right;\n",
       "    }\n",
       "</style>\n",
       "<table border=\"1\" class=\"dataframe\">\n",
       "  <thead>\n",
       "    <tr style=\"text-align: right;\">\n",
       "      <th></th>\n",
       "      <th>name</th>\n",
       "      <th>appt_made_date</th>\n",
       "      <th>appt_start_date</th>\n",
       "      <th>appt_end_date</th>\n",
       "      <th>visitee_namelast</th>\n",
       "      <th>visitee_namefirst</th>\n",
       "      <th>meeting_room</th>\n",
       "      <th>description</th>\n",
       "    </tr>\n",
       "  </thead>\n",
       "  <tbody>\n",
       "    <tr>\n",
       "      <th>139</th>\n",
       "      <td>Mary K. Henry</td>\n",
       "      <td>2015-01-05T00:00:00</td>\n",
       "      <td>1/7/15 11:30</td>\n",
       "      <td>1/7/15 23:59</td>\n",
       "      <td>NaN</td>\n",
       "      <td>POTUS</td>\n",
       "      <td>WW Lobby</td>\n",
       "      <td>Travel w POTUS  WW Lobby to West Exec.</td>\n",
       "    </tr>\n",
       "    <tr>\n",
       "      <th>140</th>\n",
       "      <td>Leo W. Gerard</td>\n",
       "      <td>2015-01-05T00:00:00</td>\n",
       "      <td>1/7/15 11:30</td>\n",
       "      <td>1/7/15 23:59</td>\n",
       "      <td>NaN</td>\n",
       "      <td>POTUS</td>\n",
       "      <td>WW Lobby</td>\n",
       "      <td>Travel w POTUS  WW Lobby to West Exec.</td>\n",
       "    </tr>\n",
       "    <tr>\n",
       "      <th>141</th>\n",
       "      <td>Leo W. Gerard</td>\n",
       "      <td>2015-01-06T00:00:00</td>\n",
       "      <td>1/7/15 11:30</td>\n",
       "      <td>1/7/15 23:59</td>\n",
       "      <td>NaN</td>\n",
       "      <td>POTUS</td>\n",
       "      <td>WW Lobby</td>\n",
       "      <td>Travel w POTUS  WW Lobby to West Exec.</td>\n",
       "    </tr>\n",
       "    <tr>\n",
       "      <th>142</th>\n",
       "      <td>Lee A. Saunders</td>\n",
       "      <td>2015-01-05T00:00:00</td>\n",
       "      <td>1/7/15 11:30</td>\n",
       "      <td>1/7/15 23:59</td>\n",
       "      <td>NaN</td>\n",
       "      <td>POTUS</td>\n",
       "      <td>WW Lobby</td>\n",
       "      <td>Travel w POTUS  WW Lobby to West Exec.</td>\n",
       "    </tr>\n",
       "  </tbody>\n",
       "</table>\n",
       "</div>"
      ],
      "text/plain": [
       "                name       appt_made_date appt_start_date appt_end_date  \\\n",
       "139    Mary K. Henry  2015-01-05T00:00:00    1/7/15 11:30  1/7/15 23:59   \n",
       "140    Leo W. Gerard  2015-01-05T00:00:00    1/7/15 11:30  1/7/15 23:59   \n",
       "141    Leo W. Gerard  2015-01-06T00:00:00    1/7/15 11:30  1/7/15 23:59   \n",
       "142  Lee A. Saunders  2015-01-05T00:00:00    1/7/15 11:30  1/7/15 23:59   \n",
       "\n",
       "    visitee_namelast visitee_namefirst meeting_room  \\\n",
       "139              NaN             POTUS     WW Lobby   \n",
       "140              NaN             POTUS     WW Lobby   \n",
       "141              NaN             POTUS     WW Lobby   \n",
       "142              NaN             POTUS     WW Lobby   \n",
       "\n",
       "                                description  \n",
       "139  Travel w POTUS  WW Lobby to West Exec.  \n",
       "140  Travel w POTUS  WW Lobby to West Exec.  \n",
       "141  Travel w POTUS  WW Lobby to West Exec.  \n",
       "142  Travel w POTUS  WW Lobby to West Exec.  "
      ]
     },
     "execution_count": 56,
     "metadata": {},
     "output_type": "execute_result"
    }
   ],
   "source": [
    "data_frame[(data_frame[\"appt_end_date\"]>\"1/6/15 23:59\") & (data_frame[\"appt_start_date\"]<\"1/7/15 23:59\")]"
   ]
  },
  {
   "cell_type": "code",
   "execution_count": 54,
   "id": "55924f44",
   "metadata": {},
   "outputs": [
    {
     "data": {
      "text/plain": [
       "102"
      ]
     },
     "execution_count": 54,
     "metadata": {},
     "output_type": "execute_result"
    }
   ],
   "source": [
    "data_frame[\"visitee_namefirst\"].nunique()"
   ]
  },
  {
   "cell_type": "code",
   "execution_count": 60,
   "id": "e77552ee",
   "metadata": {},
   "outputs": [
    {
     "data": {
      "text/plain": [
       "name                 object\n",
       "appt_made_date       object\n",
       "appt_start_date      object\n",
       "appt_end_date        object\n",
       "visitee_namelast     object\n",
       "visitee_namefirst    object\n",
       "meeting_room         object\n",
       "description          object\n",
       "dtype: object"
      ]
     },
     "execution_count": 60,
     "metadata": {},
     "output_type": "execute_result"
    }
   ],
   "source": [
    "data_frame.dtypes"
   ]
  },
  {
   "cell_type": "code",
   "execution_count": 63,
   "id": "73e912cb",
   "metadata": {},
   "outputs": [
    {
     "data": {
      "text/plain": [
       "0    Joshua T. Blanton\n",
       "1      Jack T. Gutting\n",
       "2    Bradley T. Guiles\n",
       "Name: name, dtype: object"
      ]
     },
     "execution_count": 63,
     "metadata": {},
     "output_type": "execute_result"
    }
   ],
   "source": [
    "data_frame[\"name\"].astype(str).head(3)"
   ]
  },
  {
   "cell_type": "code",
   "execution_count": 66,
   "id": "d3d2e073",
   "metadata": {},
   "outputs": [
    {
     "data": {
      "text/plain": [
       "0     True\n",
       "1    False\n",
       "2    False\n",
       "3    False\n",
       "4    False\n",
       "Name: name, dtype: bool"
      ]
     },
     "execution_count": 66,
     "metadata": {},
     "output_type": "execute_result"
    }
   ],
   "source": [
    "data_frame[\"name\"].isin([\"Joshua T. Blanton\"]).head()\n"
   ]
  }
 ],
 "metadata": {
  "kernelspec": {
   "display_name": "venv",
   "language": "python",
   "name": "python3"
  },
  "language_info": {
   "codemirror_mode": {
    "name": "ipython",
    "version": 3
   },
   "file_extension": ".py",
   "mimetype": "text/x-python",
   "name": "python",
   "nbconvert_exporter": "python",
   "pygments_lexer": "ipython3",
   "version": "3.10.11"
  }
 },
 "nbformat": 4,
 "nbformat_minor": 5
}
